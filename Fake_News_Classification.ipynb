{
  "nbformat": 4,
  "nbformat_minor": 0,
  "metadata": {
    "colab": {
      "private_outputs": true,
      "provenance": []
    },
    "kernelspec": {
      "name": "python3",
      "display_name": "Python 3"
    },
    "language_info": {
      "name": "python"
    }
  },
  "cells": [
    {
      "cell_type": "code",
      "source": [
        "## Dataset Link \"https://onlineacademiccommunity.uvic.ca/isot/2022/11/27/fake-news-detection-datasets/\""
      ],
      "metadata": {
        "id": "nTf6hdQUrlCh"
      },
      "execution_count": null,
      "outputs": []
    },
    {
      "cell_type": "code",
      "source": [
        "!unzip '/content/News-_dataset.zip' -d /content/"
      ],
      "metadata": {
        "id": "qPSSv3tnrC6g"
      },
      "execution_count": null,
      "outputs": []
    },
    {
      "cell_type": "code",
      "source": [
        "import pandas as pd"
      ],
      "metadata": {
        "id": "wfZ2qvg9ryic"
      },
      "execution_count": null,
      "outputs": []
    },
    {
      "cell_type": "code",
      "source": [
        "true_data=pd.read_csv('/content/True.csv')\n",
        "fake_data=pd.read_csv('/content/Fake.csv')"
      ],
      "metadata": {
        "id": "fnNPNClDrkXB"
      },
      "execution_count": null,
      "outputs": []
    },
    {
      "cell_type": "code",
      "source": [
        "true_data"
      ],
      "metadata": {
        "id": "9OOokMx5rccx"
      },
      "execution_count": null,
      "outputs": []
    },
    {
      "cell_type": "code",
      "source": [
        "fake_data"
      ],
      "metadata": {
        "id": "PTgLycRzsBUw"
      },
      "execution_count": null,
      "outputs": []
    },
    {
      "cell_type": "code",
      "source": [
        "true_data.info()"
      ],
      "metadata": {
        "id": "04QC5C_JsFzA"
      },
      "execution_count": null,
      "outputs": []
    },
    {
      "cell_type": "code",
      "source": [
        "fake_data.info()"
      ],
      "metadata": {
        "id": "lJIUiwNhsJ6w"
      },
      "execution_count": null,
      "outputs": []
    },
    {
      "cell_type": "code",
      "source": [
        "true_data['text'][0]"
      ],
      "metadata": {
        "id": "f1hE6xAFsOJr"
      },
      "execution_count": null,
      "outputs": []
    },
    {
      "cell_type": "code",
      "source": [
        "fake_data['label'] = 1\n",
        "true_data['label'] = 0"
      ],
      "metadata": {
        "id": "RxmC4S_qsaXx"
      },
      "execution_count": null,
      "outputs": []
    },
    {
      "cell_type": "code",
      "source": [
        "true_data"
      ],
      "metadata": {
        "id": "3hgtN_2NtSVw"
      },
      "execution_count": null,
      "outputs": []
    },
    {
      "cell_type": "code",
      "source": [
        "fake_data"
      ],
      "metadata": {
        "id": "8JlAn9G7tU8x"
      },
      "execution_count": null,
      "outputs": []
    },
    {
      "cell_type": "code",
      "source": [
        "all_data=pd.concat([fake_data, true_data])"
      ],
      "metadata": {
        "id": "Kipz9mQataTk"
      },
      "execution_count": null,
      "outputs": []
    },
    {
      "cell_type": "code",
      "source": [
        "all_data.sample(5)"
      ],
      "metadata": {
        "id": "rB_NK1tvtgbZ"
      },
      "execution_count": null,
      "outputs": []
    },
    {
      "cell_type": "code",
      "source": [
        "import numpy as np"
      ],
      "metadata": {
        "id": "GatM3kA0t8Co"
      },
      "execution_count": null,
      "outputs": []
    },
    {
      "cell_type": "code",
      "source": [
        "random_permutation = np.random.permutation(len(all_data))"
      ],
      "metadata": {
        "id": "5LVpNzgetk6w"
      },
      "execution_count": null,
      "outputs": []
    },
    {
      "cell_type": "code",
      "source": [
        "random_permutation"
      ],
      "metadata": {
        "id": "vTDC-nEquTTW"
      },
      "execution_count": null,
      "outputs": []
    },
    {
      "cell_type": "code",
      "source": [
        "len(random_permutation)"
      ],
      "metadata": {
        "id": "dEE5FTt-uUy4"
      },
      "execution_count": null,
      "outputs": []
    },
    {
      "cell_type": "code",
      "source": [
        "all_data= all_data.iloc[random_permutation]"
      ],
      "metadata": {
        "id": "Itwc3J8Cuf4g"
      },
      "execution_count": null,
      "outputs": []
    },
    {
      "cell_type": "code",
      "source": [
        "all_data"
      ],
      "metadata": {
        "id": "nAP-jOB2umbg"
      },
      "execution_count": null,
      "outputs": []
    },
    {
      "cell_type": "code",
      "source": [
        "filterd_data=all_data.loc[:, ['title', 'text', \"subject\", 'label']]\n",
        "filterd_data.head()"
      ],
      "metadata": {
        "id": "m5MJxlHiunt4"
      },
      "execution_count": null,
      "outputs": []
    },
    {
      "cell_type": "code",
      "source": [
        "filterd_data.isnull().sum()"
      ],
      "metadata": {
        "id": "ncS7n3yVuzZI"
      },
      "execution_count": null,
      "outputs": []
    },
    {
      "cell_type": "code",
      "source": [
        "filterd_data['training_feature']=filterd_data['title']+' '+filterd_data['text']+' '+filterd_data['subject']\n",
        "filterd_data.head()"
      ],
      "metadata": {
        "id": "fIyn9-T7uzVH"
      },
      "execution_count": null,
      "outputs": []
    },
    {
      "cell_type": "code",
      "source": [
        "X= filterd_data['training_feature'].values\n",
        "y = filterd_data['label']"
      ],
      "metadata": {
        "id": "NF1G_smzuzPf"
      },
      "execution_count": null,
      "outputs": []
    },
    {
      "cell_type": "code",
      "source": [
        "y"
      ],
      "metadata": {
        "id": "d8mky5lYuzMq"
      },
      "execution_count": null,
      "outputs": []
    },
    {
      "cell_type": "code",
      "source": [
        "l_X=filterd_data['training_feature'].values[0:1000]\n",
        "l_Y= filterd_data['label'].values[0:1000]"
      ],
      "metadata": {
        "id": "JSx-dVeluzH_"
      },
      "execution_count": null,
      "outputs": []
    },
    {
      "cell_type": "code",
      "source": [
        "print(l_X.shape)\n",
        "print(l_Y.shape)\n",
        "type (l_X)"
      ],
      "metadata": {
        "id": "WSkyXPy1uzD4"
      },
      "execution_count": null,
      "outputs": []
    },
    {
      "cell_type": "code",
      "source": [
        "from sklearn.feature_extraction.text import TfidfVectorizer\n",
        "from sklearn.model_selection import train_test_split\n",
        "from sklearn.linear_model import LogisticRegression\n",
        "from sklearn.metrics import accuracy_score"
      ],
      "metadata": {
        "id": "bcZ-tEoCvktZ"
      },
      "execution_count": null,
      "outputs": []
    },
    {
      "cell_type": "code",
      "source": [
        "vectorizer= TfidfVectorizer()"
      ],
      "metadata": {
        "id": "J32freIkvwbQ"
      },
      "execution_count": null,
      "outputs": []
    },
    {
      "cell_type": "code",
      "source": [
        "vectorizer"
      ],
      "metadata": {
        "id": "-mnLihFPvz9v"
      },
      "execution_count": null,
      "outputs": []
    },
    {
      "cell_type": "code",
      "source": [
        "X=vectorizer.fit_transform(X)"
      ],
      "metadata": {
        "id": "9r8kgp12v2og"
      },
      "execution_count": null,
      "outputs": []
    },
    {
      "cell_type": "code",
      "source": [
        "l_vectorizer= TfidfVectorizer()\n",
        "l_X=l_vectorizer.fit_transform(l_X)"
      ],
      "metadata": {
        "id": "n-22UvTNv6BP"
      },
      "execution_count": null,
      "outputs": []
    },
    {
      "cell_type": "code",
      "source": [
        "print(type(X))\n",
        "print(X.shape)\n",
        "print(type(l_X))\n",
        "print(l_X.shape)"
      ],
      "metadata": {
        "id": "sU0O67inwDSA"
      },
      "execution_count": null,
      "outputs": []
    },
    {
      "cell_type": "code",
      "source": [
        "X_train, X_test, Y_train, Y_test = train_test_split(X, y, test_size = 0.2, stratify=y, random_state=42)"
      ],
      "metadata": {
        "id": "zF1j6PBwwI_Y"
      },
      "execution_count": null,
      "outputs": []
    },
    {
      "cell_type": "code",
      "source": [
        "l_X_train, l_X_test, l_Y_train, l_Y_test = train_test_split(l_X, l_Y, test_size = 0.2, random_state=42)"
      ],
      "metadata": {
        "id": "uJwPtpaNwMzY"
      },
      "execution_count": null,
      "outputs": []
    },
    {
      "cell_type": "code",
      "source": [
        "X_train.shape"
      ],
      "metadata": {
        "id": "yu0XWVAmwUN_"
      },
      "execution_count": null,
      "outputs": []
    },
    {
      "cell_type": "code",
      "source": [
        "X_test.shape"
      ],
      "metadata": {
        "id": "we7yoO6vwk7R"
      },
      "execution_count": null,
      "outputs": []
    },
    {
      "cell_type": "code",
      "source": [
        "model=LogisticRegression()"
      ],
      "metadata": {
        "id": "D33847RzwsKY"
      },
      "execution_count": null,
      "outputs": []
    },
    {
      "cell_type": "code",
      "source": [
        "model.fit(X_train,Y_train)"
      ],
      "metadata": {
        "id": "klqfUbgYwu1o"
      },
      "execution_count": null,
      "outputs": []
    },
    {
      "cell_type": "code",
      "source": [
        "test_y_hat=model.predict(X_test)"
      ],
      "metadata": {
        "id": "zQyoonGYwwfs"
      },
      "execution_count": null,
      "outputs": []
    },
    {
      "cell_type": "code",
      "source": [
        "accuracy_score(test_y_hat, Y_test)"
      ],
      "metadata": {
        "id": "mKhzYn-cw7Pu"
      },
      "execution_count": null,
      "outputs": []
    },
    {
      "cell_type": "code",
      "source": [
        "def predict(input_data):\n",
        "\n",
        "    y_hat= model.predict(input_data)\n",
        "    if y_hat==0:\n",
        "        return \"The article is Fake\"\n",
        "    else:\n",
        "        return 'The article is not Fake'"
      ],
      "metadata": {
        "id": "k1B-OYvAw7Mm"
      },
      "execution_count": null,
      "outputs": []
    },
    {
      "cell_type": "code",
      "source": [
        "predict(X_test[2000])"
      ],
      "metadata": {
        "id": "eKo0lqisw7Ix"
      },
      "execution_count": null,
      "outputs": []
    },
    {
      "cell_type": "code",
      "source": [
        "from sklearn.metrics import precision_score, recall_score, f1_score"
      ],
      "metadata": {
        "id": "JyE5gU4mxUe4"
      },
      "execution_count": null,
      "outputs": []
    },
    {
      "cell_type": "code",
      "source": [
        "print (precision_score(Y_test, test_y_hat,))\n",
        "print (recall_score(Y_test, test_y_hat,))\n",
        "print(f1_score(Y_test, test_y_hat,))"
      ],
      "metadata": {
        "id": "UyOUoRPyw7Ev"
      },
      "execution_count": null,
      "outputs": []
    },
    {
      "cell_type": "code",
      "source": [
        "from sklearn.metrics import confusion_matrix\n",
        "import seaborn as sns\n",
        "import matplotlib.pyplot as plt\n",
        "\n",
        "cm = confusion_matrix(Y_test, test_y_hat)\n",
        "\n",
        "plt.figure(figsize=(8, 6))\n",
        "sns.heatmap(cm, annot=True, fmt=\"d\", cmap=\"Blues\",\n",
        "            xticklabels=['Fake', 'Real'], yticklabels=['Fake', 'Real'])\n",
        "plt.xlabel('Predicted')\n",
        "plt.ylabel('True')\n",
        "plt.title('Confusion Matrix')\n",
        "plt.show()"
      ],
      "metadata": {
        "id": "xJvV2jLkx23g"
      },
      "execution_count": null,
      "outputs": []
    },
    {
      "cell_type": "code",
      "source": [
        "from sklearn import svm\n",
        "model = svm.SVC(kernel='linear') # Linear Kernel"
      ],
      "metadata": {
        "id": "2ZUNli9zx8zg"
      },
      "execution_count": null,
      "outputs": []
    },
    {
      "cell_type": "code",
      "source": [
        "X_train.shape"
      ],
      "metadata": {
        "id": "VdsifK8n3VWt"
      },
      "execution_count": null,
      "outputs": []
    },
    {
      "cell_type": "code",
      "source": [
        "model.fit(l_X_train, l_Y_train)"
      ],
      "metadata": {
        "id": "M2z9MdQx3Y6C"
      },
      "execution_count": null,
      "outputs": []
    },
    {
      "cell_type": "code",
      "source": [
        "y_pred = model.predict(l_X_test)"
      ],
      "metadata": {
        "id": "5Fk-Uu9T3c-K"
      },
      "execution_count": null,
      "outputs": []
    },
    {
      "cell_type": "code",
      "source": [
        "accuracy_score(y_pred, l_Y_test)"
      ],
      "metadata": {
        "id": "sp9TB42y3iSq"
      },
      "execution_count": null,
      "outputs": []
    },
    {
      "cell_type": "code",
      "source": [
        "cm = confusion_matrix(l_Y_test, y_pred)\n",
        "\n",
        "plt.figure(figsize=(8, 6))\n",
        "sns.heatmap(cm, annot=True, fmt=\"d\", cmap=\"Blues\",\n",
        "            xticklabels=['Fake', 'Real'], yticklabels=['Fake', 'Real'])\n",
        "plt.xlabel('Predicted')\n",
        "plt.ylabel('True')\n",
        "plt.title('Confusion Matrix')\n",
        "plt.show()"
      ],
      "metadata": {
        "id": "ardKjP9V4E0y"
      },
      "execution_count": null,
      "outputs": []
    },
    {
      "cell_type": "code",
      "source": [
        "from sklearn.naive_bayes import GaussianNB\n",
        "model = GaussianNB()"
      ],
      "metadata": {
        "id": "P9iTAdVs6oy5"
      },
      "execution_count": null,
      "outputs": []
    },
    {
      "cell_type": "code",
      "source": [
        "model.fit(l_X_train.toarray(), l_Y_train)"
      ],
      "metadata": {
        "id": "YSuDX1BD65-5"
      },
      "execution_count": null,
      "outputs": []
    },
    {
      "cell_type": "code",
      "source": [
        "y_pred = model.predict(l_X_test.toarray())"
      ],
      "metadata": {
        "id": "pyr_qOGq6_1B"
      },
      "execution_count": null,
      "outputs": []
    },
    {
      "cell_type": "code",
      "source": [
        "accuracy_score(y_pred, l_Y_test)"
      ],
      "metadata": {
        "id": "3ZD9li2j7Klh"
      },
      "execution_count": null,
      "outputs": []
    },
    {
      "cell_type": "code",
      "source": [
        "cm = confusion_matrix(l_Y_test, y_pred)\n",
        "\n",
        "plt.figure(figsize=(8, 6))\n",
        "sns.heatmap(cm, annot=True, fmt=\"d\", cmap=\"Blues\",\n",
        "            xticklabels=['Fake', 'Real'], yticklabels=['Fake', 'Real'])\n",
        "plt.xlabel('Predicted')\n",
        "plt.ylabel('True')\n",
        "plt.title('Confusion Matrix')\n",
        "plt.show()"
      ],
      "metadata": {
        "id": "EbtOhoJ47N-5"
      },
      "execution_count": null,
      "outputs": []
    },
    {
      "cell_type": "code",
      "source": [],
      "metadata": {
        "id": "sA4tpDnT7UDR"
      },
      "execution_count": null,
      "outputs": []
    }
  ]
}